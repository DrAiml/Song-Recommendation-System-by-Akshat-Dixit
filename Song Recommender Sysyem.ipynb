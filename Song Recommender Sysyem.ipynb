{
 "cells": [
  {
   "cell_type": "code",
   "execution_count": 80,
   "id": "6cad9ea3-a5cb-4268-8a59-43ca75a26012",
   "metadata": {},
   "outputs": [],
   "source": [
    "import pandas as pd\n",
    "import numpy as np"
   ]
  },
  {
   "cell_type": "code",
   "execution_count": 81,
   "id": "95f88d8a-2cd1-47b5-936a-a37092afa78b",
   "metadata": {},
   "outputs": [],
   "source": [
    "df = pd.read_csv('Bollywood-Songs-Dataset(2017-23).csv')"
   ]
  },
  {
   "cell_type": "code",
   "execution_count": 82,
   "id": "099b5fb4-01eb-4d23-a06d-c1353fb8b1fd",
   "metadata": {},
   "outputs": [
    {
     "data": {
      "text/html": [
       "<div>\n",
       "<style scoped>\n",
       "    .dataframe tbody tr th:only-of-type {\n",
       "        vertical-align: middle;\n",
       "    }\n",
       "\n",
       "    .dataframe tbody tr th {\n",
       "        vertical-align: top;\n",
       "    }\n",
       "\n",
       "    .dataframe thead th {\n",
       "        text-align: right;\n",
       "    }\n",
       "</style>\n",
       "<table border=\"1\" class=\"dataframe\">\n",
       "  <thead>\n",
       "    <tr style=\"text-align: right;\">\n",
       "      <th></th>\n",
       "      <th>music_name</th>\n",
       "      <th>singer</th>\n",
       "      <th>release</th>\n",
       "      <th>lyrics</th>\n",
       "      <th>thumbnail</th>\n",
       "    </tr>\n",
       "  </thead>\n",
       "  <tbody>\n",
       "    <tr>\n",
       "      <th>0</th>\n",
       "      <td>Ek Haseena Thi Ek Deewana Tha</td>\n",
       "      <td>Yasser Desai</td>\n",
       "      <td>2017</td>\n",
       "      <td>Ek haseena thi ek deewana tha Kya kahun tumse ...</td>\n",
       "      <td>https://i.ytimg.com/vi/6obiArkHwAk/hqdefault.jpg</td>\n",
       "    </tr>\n",
       "    <tr>\n",
       "      <th>1</th>\n",
       "      <td>Hue Bechain</td>\n",
       "      <td>Palak Muchhal, Yasser Desai</td>\n",
       "      <td>2017</td>\n",
       "      <td>Hue bechain pehli bar hmny raaz ye jana Mohabb...</td>\n",
       "      <td>https://i.ytimg.com/vi/6obiArkHwAk/hqdefault.jpg</td>\n",
       "    </tr>\n",
       "    <tr>\n",
       "      <th>2</th>\n",
       "      <td>Hanste Hanste</td>\n",
       "      <td>Palak Muchhal, Yasser Desai</td>\n",
       "      <td>2017</td>\n",
       "      <td>Hanste hanste ro diye tum Kis mushkil mein kho...</td>\n",
       "      <td>https://i.ytimg.com/vi/rVKX19fNV0A/hqdefault.jpg</td>\n",
       "    </tr>\n",
       "    <tr>\n",
       "      <th>3</th>\n",
       "      <td>Nain</td>\n",
       "      <td>Palak Muchhal, Yasser Desai</td>\n",
       "      <td>2017</td>\n",
       "      <td>Kuchh sawaal pyar ke lab pe hai ruke ruke Jaad...</td>\n",
       "      <td>https://i.ytimg.com/vi/ZHbbcy7u9Rk/hqdefault.jpg</td>\n",
       "    </tr>\n",
       "    <tr>\n",
       "      <th>4</th>\n",
       "      <td>Aankhon Mein Aansoon</td>\n",
       "      <td>Palak Muchhal, Yasser Desai</td>\n",
       "      <td>2017</td>\n",
       "      <td>Aankhon mein aansoo leke hoton se muskuraye Aa...</td>\n",
       "      <td>https://i.ytimg.com/vi/izP81UySf0Y/hqdefault.jpg</td>\n",
       "    </tr>\n",
       "  </tbody>\n",
       "</table>\n",
       "</div>"
      ],
      "text/plain": [
       "                      music_name                       singer  release  \\\n",
       "0  Ek Haseena Thi Ek Deewana Tha                 Yasser Desai     2017   \n",
       "1                    Hue Bechain  Palak Muchhal, Yasser Desai     2017   \n",
       "2                  Hanste Hanste  Palak Muchhal, Yasser Desai     2017   \n",
       "3                           Nain  Palak Muchhal, Yasser Desai     2017   \n",
       "4           Aankhon Mein Aansoon  Palak Muchhal, Yasser Desai     2017   \n",
       "\n",
       "                                              lyrics  \\\n",
       "0  Ek haseena thi ek deewana tha Kya kahun tumse ...   \n",
       "1  Hue bechain pehli bar hmny raaz ye jana Mohabb...   \n",
       "2  Hanste hanste ro diye tum Kis mushkil mein kho...   \n",
       "3  Kuchh sawaal pyar ke lab pe hai ruke ruke Jaad...   \n",
       "4  Aankhon mein aansoo leke hoton se muskuraye Aa...   \n",
       "\n",
       "                                          thumbnail  \n",
       "0  https://i.ytimg.com/vi/6obiArkHwAk/hqdefault.jpg  \n",
       "1  https://i.ytimg.com/vi/6obiArkHwAk/hqdefault.jpg  \n",
       "2  https://i.ytimg.com/vi/rVKX19fNV0A/hqdefault.jpg  \n",
       "3  https://i.ytimg.com/vi/ZHbbcy7u9Rk/hqdefault.jpg  \n",
       "4  https://i.ytimg.com/vi/izP81UySf0Y/hqdefault.jpg  "
      ]
     },
     "execution_count": 82,
     "metadata": {},
     "output_type": "execute_result"
    }
   ],
   "source": [
    "df.head()"
   ]
  },
  {
   "cell_type": "code",
   "execution_count": 83,
   "id": "42fc91c6-25dd-4b0b-a284-5790c0a5f153",
   "metadata": {},
   "outputs": [],
   "source": [
    "music = df.copy()"
   ]
  },
  {
   "cell_type": "markdown",
   "id": "9760212e-092a-4681-ae2a-53367254fe14",
   "metadata": {},
   "source": [
    "# Preprocessing"
   ]
  },
  {
   "cell_type": "code",
   "execution_count": 84,
   "id": "e4dfddb4-1689-4b6b-a3b7-fa5d5f351d28",
   "metadata": {},
   "outputs": [
    {
     "data": {
      "text/plain": [
       "music_name    0\n",
       "singer        0\n",
       "release       0\n",
       "lyrics        0\n",
       "thumbnail     0\n",
       "dtype: int64"
      ]
     },
     "execution_count": 84,
     "metadata": {},
     "output_type": "execute_result"
    }
   ],
   "source": [
    "music.isnull().sum()"
   ]
  },
  {
   "cell_type": "code",
   "execution_count": 85,
   "id": "5865f453-e54e-473c-b86e-ade22de29e15",
   "metadata": {},
   "outputs": [
    {
     "data": {
      "text/plain": [
       "0"
      ]
     },
     "execution_count": 85,
     "metadata": {},
     "output_type": "execute_result"
    }
   ],
   "source": [
    "music.duplicated().sum()"
   ]
  },
  {
   "cell_type": "code",
   "execution_count": 86,
   "id": "639ae735-32ba-4682-85b1-237557682102",
   "metadata": {},
   "outputs": [],
   "source": [
    "music['singer'] = music['singer'].apply(\n",
    "    lambda x: \" \".join(name.replace(\" \", \"\").lower() for name in x.split(\",\"))\n",
    ")\n"
   ]
  },
  {
   "cell_type": "code",
   "execution_count": 87,
   "id": "75efeb66-fb4d-4340-baa6-8454ad138f2b",
   "metadata": {},
   "outputs": [],
   "source": [
    "music['lyrics'] = music['lyrics'].apply(lambda x: x.lower())"
   ]
  },
  {
   "cell_type": "code",
   "execution_count": 88,
   "id": "bb2b1545-42ea-402f-90fe-0b7f3f260afd",
   "metadata": {},
   "outputs": [
    {
     "data": {
      "text/html": [
       "<div>\n",
       "<style scoped>\n",
       "    .dataframe tbody tr th:only-of-type {\n",
       "        vertical-align: middle;\n",
       "    }\n",
       "\n",
       "    .dataframe tbody tr th {\n",
       "        vertical-align: top;\n",
       "    }\n",
       "\n",
       "    .dataframe thead th {\n",
       "        text-align: right;\n",
       "    }\n",
       "</style>\n",
       "<table border=\"1\" class=\"dataframe\">\n",
       "  <thead>\n",
       "    <tr style=\"text-align: right;\">\n",
       "      <th></th>\n",
       "      <th>music_name</th>\n",
       "      <th>singer</th>\n",
       "      <th>release</th>\n",
       "      <th>lyrics</th>\n",
       "      <th>thumbnail</th>\n",
       "    </tr>\n",
       "  </thead>\n",
       "  <tbody>\n",
       "    <tr>\n",
       "      <th>0</th>\n",
       "      <td>Ek Haseena Thi Ek Deewana Tha</td>\n",
       "      <td>yasserdesai</td>\n",
       "      <td>2017</td>\n",
       "      <td>ek haseena thi ek deewana tha kya kahun tumse ...</td>\n",
       "      <td>https://i.ytimg.com/vi/6obiArkHwAk/hqdefault.jpg</td>\n",
       "    </tr>\n",
       "    <tr>\n",
       "      <th>1</th>\n",
       "      <td>Hue Bechain</td>\n",
       "      <td>palakmuchhal yasserdesai</td>\n",
       "      <td>2017</td>\n",
       "      <td>hue bechain pehli bar hmny raaz ye jana mohabb...</td>\n",
       "      <td>https://i.ytimg.com/vi/6obiArkHwAk/hqdefault.jpg</td>\n",
       "    </tr>\n",
       "    <tr>\n",
       "      <th>2</th>\n",
       "      <td>Hanste Hanste</td>\n",
       "      <td>palakmuchhal yasserdesai</td>\n",
       "      <td>2017</td>\n",
       "      <td>hanste hanste ro diye tum kis mushkil mein kho...</td>\n",
       "      <td>https://i.ytimg.com/vi/rVKX19fNV0A/hqdefault.jpg</td>\n",
       "    </tr>\n",
       "    <tr>\n",
       "      <th>3</th>\n",
       "      <td>Nain</td>\n",
       "      <td>palakmuchhal yasserdesai</td>\n",
       "      <td>2017</td>\n",
       "      <td>kuchh sawaal pyar ke lab pe hai ruke ruke jaad...</td>\n",
       "      <td>https://i.ytimg.com/vi/ZHbbcy7u9Rk/hqdefault.jpg</td>\n",
       "    </tr>\n",
       "    <tr>\n",
       "      <th>4</th>\n",
       "      <td>Aankhon Mein Aansoon</td>\n",
       "      <td>palakmuchhal yasserdesai</td>\n",
       "      <td>2017</td>\n",
       "      <td>aankhon mein aansoo leke hoton se muskuraye aa...</td>\n",
       "      <td>https://i.ytimg.com/vi/izP81UySf0Y/hqdefault.jpg</td>\n",
       "    </tr>\n",
       "  </tbody>\n",
       "</table>\n",
       "</div>"
      ],
      "text/plain": [
       "                      music_name                    singer  release  \\\n",
       "0  Ek Haseena Thi Ek Deewana Tha               yasserdesai     2017   \n",
       "1                    Hue Bechain  palakmuchhal yasserdesai     2017   \n",
       "2                  Hanste Hanste  palakmuchhal yasserdesai     2017   \n",
       "3                           Nain  palakmuchhal yasserdesai     2017   \n",
       "4           Aankhon Mein Aansoon  palakmuchhal yasserdesai     2017   \n",
       "\n",
       "                                              lyrics  \\\n",
       "0  ek haseena thi ek deewana tha kya kahun tumse ...   \n",
       "1  hue bechain pehli bar hmny raaz ye jana mohabb...   \n",
       "2  hanste hanste ro diye tum kis mushkil mein kho...   \n",
       "3  kuchh sawaal pyar ke lab pe hai ruke ruke jaad...   \n",
       "4  aankhon mein aansoo leke hoton se muskuraye aa...   \n",
       "\n",
       "                                          thumbnail  \n",
       "0  https://i.ytimg.com/vi/6obiArkHwAk/hqdefault.jpg  \n",
       "1  https://i.ytimg.com/vi/6obiArkHwAk/hqdefault.jpg  \n",
       "2  https://i.ytimg.com/vi/rVKX19fNV0A/hqdefault.jpg  \n",
       "3  https://i.ytimg.com/vi/ZHbbcy7u9Rk/hqdefault.jpg  \n",
       "4  https://i.ytimg.com/vi/izP81UySf0Y/hqdefault.jpg  "
      ]
     },
     "execution_count": 88,
     "metadata": {},
     "output_type": "execute_result"
    }
   ],
   "source": [
    "music.head()"
   ]
  },
  {
   "cell_type": "code",
   "execution_count": 89,
   "id": "b9dd74dc-6af5-4b5e-bcee-2f301d9d935b",
   "metadata": {},
   "outputs": [],
   "source": [
    "music['release'] = music['release'].astype(str)"
   ]
  },
  {
   "cell_type": "code",
   "execution_count": 90,
   "id": "b6fc02e5-4169-45e4-9f72-f618b9260bdf",
   "metadata": {},
   "outputs": [],
   "source": [
    "music['tags'] = music[\"singer\"] + \" \" + music[\"release\"] + \" \" + music[\"lyrics\"]"
   ]
  },
  {
   "cell_type": "code",
   "execution_count": 91,
   "id": "f7dfd375-3213-4e64-b3b3-2ee268dc7477",
   "metadata": {},
   "outputs": [
    {
     "data": {
      "text/html": [
       "<div>\n",
       "<style scoped>\n",
       "    .dataframe tbody tr th:only-of-type {\n",
       "        vertical-align: middle;\n",
       "    }\n",
       "\n",
       "    .dataframe tbody tr th {\n",
       "        vertical-align: top;\n",
       "    }\n",
       "\n",
       "    .dataframe thead th {\n",
       "        text-align: right;\n",
       "    }\n",
       "</style>\n",
       "<table border=\"1\" class=\"dataframe\">\n",
       "  <thead>\n",
       "    <tr style=\"text-align: right;\">\n",
       "      <th></th>\n",
       "      <th>music_name</th>\n",
       "      <th>singer</th>\n",
       "      <th>release</th>\n",
       "      <th>lyrics</th>\n",
       "      <th>thumbnail</th>\n",
       "      <th>tags</th>\n",
       "    </tr>\n",
       "  </thead>\n",
       "  <tbody>\n",
       "    <tr>\n",
       "      <th>0</th>\n",
       "      <td>Ek Haseena Thi Ek Deewana Tha</td>\n",
       "      <td>yasserdesai</td>\n",
       "      <td>2017</td>\n",
       "      <td>ek haseena thi ek deewana tha kya kahun tumse ...</td>\n",
       "      <td>https://i.ytimg.com/vi/6obiArkHwAk/hqdefault.jpg</td>\n",
       "      <td>yasserdesai 2017 ek haseena thi ek deewana tha...</td>\n",
       "    </tr>\n",
       "    <tr>\n",
       "      <th>1</th>\n",
       "      <td>Hue Bechain</td>\n",
       "      <td>palakmuchhal yasserdesai</td>\n",
       "      <td>2017</td>\n",
       "      <td>hue bechain pehli bar hmny raaz ye jana mohabb...</td>\n",
       "      <td>https://i.ytimg.com/vi/6obiArkHwAk/hqdefault.jpg</td>\n",
       "      <td>palakmuchhal yasserdesai 2017 hue bechain pehl...</td>\n",
       "    </tr>\n",
       "    <tr>\n",
       "      <th>2</th>\n",
       "      <td>Hanste Hanste</td>\n",
       "      <td>palakmuchhal yasserdesai</td>\n",
       "      <td>2017</td>\n",
       "      <td>hanste hanste ro diye tum kis mushkil mein kho...</td>\n",
       "      <td>https://i.ytimg.com/vi/rVKX19fNV0A/hqdefault.jpg</td>\n",
       "      <td>palakmuchhal yasserdesai 2017 hanste hanste ro...</td>\n",
       "    </tr>\n",
       "    <tr>\n",
       "      <th>3</th>\n",
       "      <td>Nain</td>\n",
       "      <td>palakmuchhal yasserdesai</td>\n",
       "      <td>2017</td>\n",
       "      <td>kuchh sawaal pyar ke lab pe hai ruke ruke jaad...</td>\n",
       "      <td>https://i.ytimg.com/vi/ZHbbcy7u9Rk/hqdefault.jpg</td>\n",
       "      <td>palakmuchhal yasserdesai 2017 kuchh sawaal pya...</td>\n",
       "    </tr>\n",
       "    <tr>\n",
       "      <th>4</th>\n",
       "      <td>Aankhon Mein Aansoon</td>\n",
       "      <td>palakmuchhal yasserdesai</td>\n",
       "      <td>2017</td>\n",
       "      <td>aankhon mein aansoo leke hoton se muskuraye aa...</td>\n",
       "      <td>https://i.ytimg.com/vi/izP81UySf0Y/hqdefault.jpg</td>\n",
       "      <td>palakmuchhal yasserdesai 2017 aankhon mein aan...</td>\n",
       "    </tr>\n",
       "  </tbody>\n",
       "</table>\n",
       "</div>"
      ],
      "text/plain": [
       "                      music_name                    singer release  \\\n",
       "0  Ek Haseena Thi Ek Deewana Tha               yasserdesai    2017   \n",
       "1                    Hue Bechain  palakmuchhal yasserdesai    2017   \n",
       "2                  Hanste Hanste  palakmuchhal yasserdesai    2017   \n",
       "3                           Nain  palakmuchhal yasserdesai    2017   \n",
       "4           Aankhon Mein Aansoon  palakmuchhal yasserdesai    2017   \n",
       "\n",
       "                                              lyrics  \\\n",
       "0  ek haseena thi ek deewana tha kya kahun tumse ...   \n",
       "1  hue bechain pehli bar hmny raaz ye jana mohabb...   \n",
       "2  hanste hanste ro diye tum kis mushkil mein kho...   \n",
       "3  kuchh sawaal pyar ke lab pe hai ruke ruke jaad...   \n",
       "4  aankhon mein aansoo leke hoton se muskuraye aa...   \n",
       "\n",
       "                                          thumbnail  \\\n",
       "0  https://i.ytimg.com/vi/6obiArkHwAk/hqdefault.jpg   \n",
       "1  https://i.ytimg.com/vi/6obiArkHwAk/hqdefault.jpg   \n",
       "2  https://i.ytimg.com/vi/rVKX19fNV0A/hqdefault.jpg   \n",
       "3  https://i.ytimg.com/vi/ZHbbcy7u9Rk/hqdefault.jpg   \n",
       "4  https://i.ytimg.com/vi/izP81UySf0Y/hqdefault.jpg   \n",
       "\n",
       "                                                tags  \n",
       "0  yasserdesai 2017 ek haseena thi ek deewana tha...  \n",
       "1  palakmuchhal yasserdesai 2017 hue bechain pehl...  \n",
       "2  palakmuchhal yasserdesai 2017 hanste hanste ro...  \n",
       "3  palakmuchhal yasserdesai 2017 kuchh sawaal pya...  \n",
       "4  palakmuchhal yasserdesai 2017 aankhon mein aan...  "
      ]
     },
     "execution_count": 91,
     "metadata": {},
     "output_type": "execute_result"
    }
   ],
   "source": [
    "music.head()"
   ]
  },
  {
   "cell_type": "code",
   "execution_count": 92,
   "id": "8d2f573a-f7e4-42c2-95a5-fea0f441d830",
   "metadata": {},
   "outputs": [],
   "source": [
    "dataset = music[['music_name', 'tags', 'thumbnail']]"
   ]
  },
  {
   "cell_type": "code",
   "execution_count": 93,
   "id": "c356aa49-7400-4ee4-a16c-697c84a716c6",
   "metadata": {},
   "outputs": [
    {
     "data": {
      "text/plain": [
       "'Main Hoon Saath Tere'"
      ]
     },
     "execution_count": 93,
     "metadata": {},
     "output_type": "execute_result"
    }
   ],
   "source": [
    "dataset['music_name'][23]"
   ]
  },
  {
   "cell_type": "markdown",
   "id": "25398627-af42-4372-acb3-27a20e865ca2",
   "metadata": {},
   "source": [
    "# TF-IDF Vectorization "
   ]
  },
  {
   "cell_type": "code",
   "execution_count": 94,
   "id": "8fcd1f1a-bc5b-47fe-9292-c76f92bb01c8",
   "metadata": {},
   "outputs": [],
   "source": [
    "from sklearn.feature_extraction.text import TfidfVectorizer\n",
    "tf = TfidfVectorizer(max_features=5000)"
   ]
  },
  {
   "cell_type": "code",
   "execution_count": 95,
   "id": "6c3858e1-5198-4c01-bc3c-2dedd5c93f4c",
   "metadata": {},
   "outputs": [],
   "source": [
    "vectors = tf.fit_transform(dataset['tags']).toarray()"
   ]
  },
  {
   "cell_type": "code",
   "execution_count": 96,
   "id": "3eddbfe4-dced-4710-92dc-bd1671631c60",
   "metadata": {},
   "outputs": [
    {
     "data": {
      "text/plain": [
       "array([[0., 0., 0., ..., 0., 0., 0.],\n",
       "       [0., 0., 0., ..., 0., 0., 0.],\n",
       "       [0., 0., 0., ..., 0., 0., 0.],\n",
       "       ...,\n",
       "       [0., 0., 0., ..., 0., 0., 0.],\n",
       "       [0., 0., 0., ..., 0., 0., 0.],\n",
       "       [0., 0., 0., ..., 0., 0., 0.]])"
      ]
     },
     "execution_count": 96,
     "metadata": {},
     "output_type": "execute_result"
    }
   ],
   "source": [
    "vectors"
   ]
  },
  {
   "cell_type": "code",
   "execution_count": 97,
   "id": "e67a4c65-50cc-4e2c-9025-e44425783724",
   "metadata": {},
   "outputs": [
    {
     "data": {
      "text/plain": [
       "array(['100', '12', '2017', '2018', '2019', '2020', '2021', '2022',\n",
       "       '2023', '3g', 'aa', 'aaa', 'aab', 'aabaad', 'aadat', 'aadha',\n",
       "       'aadhe', 'aadhi', 'aafat', 'aag', 'aaga', 'aage', 'aagey', 'aah',\n",
       "       'aaha', 'aahe', 'aahista', 'aaho', 'aahon', 'aai', 'aaina',\n",
       "       'aaine', 'aaiyaan', 'aaiyan', 'aaj', 'aaja', 'aajo',\n",
       "       'aakankshasharma', 'aakar', 'aake', 'aakhan', 'aakhir', 'aakhiri',\n",
       "       'aakhri', 'aala', 'aam', 'aan', 'aana', 'aanch', 'aanchal',\n",
       "       'aandhi', 'aandhiyaan', 'aandhiyan', 'aane', 'aanewale', 'aangan',\n",
       "       'aankh', 'aankhe', 'aankhein', 'aankhen', 'aankho', 'aankhon',\n",
       "       'aansoo', 'aansu', 'aao', 'aaogey', 'aap', 'aapa', 'aapan', 'aape',\n",
       "       'aapna', 'aapne', 'aapni', 'aaram', 'aare', 'aarzoo', 'aarzuon',\n",
       "       'aas', 'aasaan', 'aashiq', 'aashiqaan', 'aashiqan', 'aashiqe',\n",
       "       'aashiqui', 'aasmaa', 'aasmaan', 'aasmaano', 'aasman', 'aasmani',\n",
       "       'aata', 'aate', 'aath', 'aathe', 'aati', 'aaun', 'aaunga', 'aave',\n",
       "       'aavjo', 'aawe'], dtype=object)"
      ]
     },
     "execution_count": 97,
     "metadata": {},
     "output_type": "execute_result"
    }
   ],
   "source": [
    "tf.get_feature_names_out()[1:100]"
   ]
  },
  {
   "cell_type": "markdown",
   "id": "f977a85d-ff64-4af8-b2d8-605246cd1561",
   "metadata": {},
   "source": [
    "# Calculating similarity between vectors"
   ]
  },
  {
   "cell_type": "code",
   "execution_count": 98,
   "id": "259a4439-b77b-4aca-ac92-747f00465ac0",
   "metadata": {},
   "outputs": [],
   "source": [
    "from sklearn.metrics.pairwise import cosine_similarity\n",
    "similarity = cosine_similarity(vectors)"
   ]
  },
  {
   "cell_type": "code",
   "execution_count": 99,
   "id": "68a923d5-79a5-42b2-8e2c-b52c68bb4d1d",
   "metadata": {},
   "outputs": [
    {
     "data": {
      "text/plain": [
       "array([[1.00000000e+00, 2.74861232e-02, 1.82898742e-01, ...,\n",
       "        3.49259134e-02, 0.00000000e+00, 5.34304837e-02],\n",
       "       [2.74861232e-02, 1.00000000e+00, 4.79905817e-02, ...,\n",
       "        7.67723124e-02, 1.59507661e-03, 3.13621743e-02],\n",
       "       [1.82898742e-01, 4.79905817e-02, 1.00000000e+00, ...,\n",
       "        7.07926923e-02, 4.46814060e-04, 7.44447085e-02],\n",
       "       ...,\n",
       "       [3.49259134e-02, 7.67723124e-02, 7.07926923e-02, ...,\n",
       "        1.00000000e+00, 4.88178898e-03, 4.17590362e-02],\n",
       "       [0.00000000e+00, 1.59507661e-03, 4.46814060e-04, ...,\n",
       "        4.88178898e-03, 1.00000000e+00, 8.29833009e-04],\n",
       "       [5.34304837e-02, 3.13621743e-02, 7.44447085e-02, ...,\n",
       "        4.17590362e-02, 8.29833009e-04, 1.00000000e+00]])"
      ]
     },
     "execution_count": 99,
     "metadata": {},
     "output_type": "execute_result"
    }
   ],
   "source": [
    "similarity"
   ]
  },
  {
   "cell_type": "code",
   "execution_count": 100,
   "id": "bd4ccb24-166f-4643-98f8-478afaf571d2",
   "metadata": {},
   "outputs": [
    {
     "data": {
      "text/plain": [
       "array([[1.00000000e+00, 2.74861232e-02, 1.82898742e-01, ...,\n",
       "        3.49259134e-02, 0.00000000e+00, 5.34304837e-02],\n",
       "       [2.74861232e-02, 1.00000000e+00, 4.79905817e-02, ...,\n",
       "        7.67723124e-02, 1.59507661e-03, 3.13621743e-02],\n",
       "       [1.82898742e-01, 4.79905817e-02, 1.00000000e+00, ...,\n",
       "        7.07926923e-02, 4.46814060e-04, 7.44447085e-02],\n",
       "       ...,\n",
       "       [3.49259134e-02, 7.67723124e-02, 7.07926923e-02, ...,\n",
       "        1.00000000e+00, 4.88178898e-03, 4.17590362e-02],\n",
       "       [0.00000000e+00, 1.59507661e-03, 4.46814060e-04, ...,\n",
       "        4.88178898e-03, 1.00000000e+00, 8.29833009e-04],\n",
       "       [5.34304837e-02, 3.13621743e-02, 7.44447085e-02, ...,\n",
       "        4.17590362e-02, 8.29833009e-04, 1.00000000e+00]])"
      ]
     },
     "execution_count": 100,
     "metadata": {},
     "output_type": "execute_result"
    }
   ],
   "source": [
    "similarity"
   ]
  },
  {
   "cell_type": "markdown",
   "id": "572f59a1-95c3-4d4e-a85a-4602057225a8",
   "metadata": {},
   "source": [
    "# Recommender Function "
   ]
  },
  {
   "cell_type": "code",
   "execution_count": 101,
   "id": "c24609a1-730e-474e-b2ff-af545d4ce51c",
   "metadata": {},
   "outputs": [
    {
     "data": {
      "text/plain": [
       "2"
      ]
     },
     "execution_count": 101,
     "metadata": {},
     "output_type": "execute_result"
    }
   ],
   "source": [
    "dataset[dataset['music_name']== 'Hanste Hanste'].index[0]"
   ]
  },
  {
   "cell_type": "code",
   "execution_count": 102,
   "id": "e39b1fb4-8120-4cf8-aca4-c6f2e0bdf8ed",
   "metadata": {},
   "outputs": [],
   "source": [
    "def recommend(song):\n",
    "    song_index = dataset[dataset['music_name']== song ].index[0]\n",
    "    distances = similarity[song_index]\n",
    "    song_list = sorted(list(enumerate(distances)), reverse=True, key = lambda x: x[1])[1:6]\n",
    "\n",
    "    for i in song_list:\n",
    "        print(dataset.iloc[i[0]].music_name)\n"
   ]
  },
  {
   "cell_type": "code",
   "execution_count": 103,
   "id": "634bcf3d-c139-41c8-8510-fd24f359f2c4",
   "metadata": {},
   "outputs": [
    {
     "name": "stdout",
     "output_type": "stream",
     "text": [
      "Ishq Ishq Tera\n",
      "Aaj Se Teri\n",
      "Phir Aur Kya Chahiye\n",
      "Sab Jhulas Gaya\n",
      "Pagal Hai Mera Dil\n"
     ]
    }
   ],
   "source": [
    "recommend('Tera Fitoor')"
   ]
  },
  {
   "cell_type": "markdown",
   "id": "a53ae5c8-0dd0-479f-a8f3-4683ad04b503",
   "metadata": {},
   "source": [
    "# saving the dataset and similarity matrix  for streamlit "
   ]
  },
  {
   "cell_type": "code",
   "execution_count": 104,
   "id": "a8a37d37-2e2e-4ba3-a1d3-859825ab34e7",
   "metadata": {},
   "outputs": [],
   "source": [
    "import joblib"
   ]
  },
  {
   "cell_type": "code",
   "execution_count": 105,
   "id": "53b4e786-2efe-4501-8816-535383e5c8b5",
   "metadata": {},
   "outputs": [
    {
     "data": {
      "text/plain": [
       "['dataset.pkl']"
      ]
     },
     "execution_count": 105,
     "metadata": {},
     "output_type": "execute_result"
    }
   ],
   "source": [
    "joblib.dump(dataset, \"dataset.pkl\")"
   ]
  },
  {
   "cell_type": "code",
   "execution_count": 107,
   "id": "e921a7ab-5002-4f35-b66b-8019686429a1",
   "metadata": {},
   "outputs": [
    {
     "data": {
      "text/plain": [
       "['similarity.pkl']"
      ]
     },
     "execution_count": 107,
     "metadata": {},
     "output_type": "execute_result"
    }
   ],
   "source": [
    "joblib.dump(similarity, \"similarity.pkl\")"
   ]
  },
  {
   "cell_type": "code",
   "execution_count": null,
   "id": "30001143-1af6-4d79-800b-5c1259d8b8c4",
   "metadata": {},
   "outputs": [],
   "source": []
  }
 ],
 "metadata": {
  "kernelspec": {
   "display_name": "Python 3 (ipykernel)",
   "language": "python",
   "name": "python3"
  },
  "language_info": {
   "codemirror_mode": {
    "name": "ipython",
    "version": 3
   },
   "file_extension": ".py",
   "mimetype": "text/x-python",
   "name": "python",
   "nbconvert_exporter": "python",
   "pygments_lexer": "ipython3",
   "version": "3.12.7"
  }
 },
 "nbformat": 4,
 "nbformat_minor": 5
}
